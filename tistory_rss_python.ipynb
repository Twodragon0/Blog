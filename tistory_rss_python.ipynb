{
  "nbformat": 4,
  "nbformat_minor": 0,
  "metadata": {
    "colab": {
      "provenance": [],
      "authorship_tag": "ABX9TyMwECCqwmf1hLyub1rccrFq",
      "include_colab_link": true
    },
    "kernelspec": {
      "name": "python3",
      "display_name": "Python 3"
    },
    "language_info": {
      "name": "python"
    }
  },
  "cells": [
    {
      "cell_type": "markdown",
      "metadata": {
        "id": "view-in-github",
        "colab_type": "text"
      },
      "source": [
        "<a href=\"https://colab.research.google.com/github/Twodragon0/Blog/blob/main/tistory_rss_python.ipynb\" target=\"_parent\"><img src=\"https://colab.research.google.com/assets/colab-badge.svg\" alt=\"Open In Colab\"/></a>"
      ]
    },
    {
      "cell_type": "code",
      "source": [
        "!python -m pip install feedparser"
      ],
      "metadata": {
        "colab": {
          "base_uri": "https://localhost:8080/"
        },
        "id": "DPVqEwLkccXO",
        "outputId": "fb33c03d-d9bf-45fa-802f-b264528ed4db"
      },
      "execution_count": 20,
      "outputs": [
        {
          "output_type": "stream",
          "name": "stdout",
          "text": [
            "Requirement already satisfied: feedparser in /usr/local/lib/python3.10/dist-packages (6.0.11)\n",
            "Requirement already satisfied: sgmllib3k in /usr/local/lib/python3.10/dist-packages (from feedparser) (1.0.0)\n"
          ]
        }
      ]
    },
    {
      "cell_type": "code",
      "execution_count": 21,
      "metadata": {
        "colab": {
          "base_uri": "https://localhost:8080/"
        },
        "id": "SgpBba9sbpGU",
        "outputId": "6b8cc96f-adcd-43a9-a41c-490ef828d9bf"
      },
      "outputs": [
        {
          "output_type": "stream",
          "name": "stdout",
          "text": [
            "ERROR: unknown command \"instsall\" - maybe you meant \"install\"\n"
          ]
        }
      ],
      "source": [
        "!pip instsall feedparser"
      ]
    },
    {
      "cell_type": "code",
      "source": [
        "import feedparser\n",
        "\n",
        "feed = feedparser.parse(\"https://twodragon.tistory.com/rss\")\n",
        "\n",
        "for i in feed['entries']:\n",
        "  print(i['link'], i['title'])"
      ],
      "metadata": {
        "colab": {
          "base_uri": "https://localhost:8080/"
        },
        "id": "bID4uZNIbwCT",
        "outputId": "225701b7-6550-441c-9746-38ff2476691b"
      },
      "execution_count": 22,
      "outputs": [
        {
          "output_type": "stream",
          "name": "stdout",
          "text": [
            "https://twodragon.tistory.com/628 클라우드 시큐리티 과정 5기 - 2회차 AWS 기초 및 아키텍처\n",
            "https://twodragon.tistory.com/627 클라우드 시큐리티 과정 5기 - 1회차 클라우드 시대의 보안 전략: DevSecOps와 제로 트러스트\n",
            "https://twodragon.tistory.com/626 클라우드 시큐리티 과정 5기 온라인 강의 (2024.03.30 ~ )\n",
            "https://twodragon.tistory.com/625 Ansible 101: 시스템 구축 및 환경 설정 자동화\n",
            "https://twodragon.tistory.com/624 코인 에어드랍: Galxe로 여는 NFT 플랫폼 및 Kinza, Owlto 블록체인 활용 가이드 (디지털 창작의 새로운 세계)\n",
            "https://twodragon.tistory.com/623 Ansible 101: 조건문과 반복문 활용하여 인프라 관리하기\n",
            "https://twodragon.tistory.com/621 블록체인 에어드랍: 코인 무료 획득의 비밀과 효과적인 참여 방법 소개 (QnA3, NFPrompt, Myshell)\n",
            "https://twodragon.tistory.com/620 Ansible 101: 손쉬운 인프라 관리를 위한 앤서블 시작하기\n",
            "https://twodragon.tistory.com/619 [서울/합정 맛집] 닭다리와 라멘이 만난 특별한 맛! - 라무라 합정점\n",
            "https://twodragon.tistory.com/618 [성장스토리] 고시원에서 원룸까지, 대학생의 눈물과 웃음의 여정\n",
            "https://twodragon.tistory.com/616 [수원/수원시청 웨딩홀] 다크하면서도 화려한 웨딩! 더케이웨딩컨벤션 수원점 (The K 웨딩홀)\n",
            "https://twodragon.tistory.com/615 클라우드 시큐리티 과정 4기 - 9회차 클라우드 시큐리티 통합 정리\n",
            "https://twodragon.tistory.com/614 클라우드 시큐리티 과정 4기 - 8회차 쿠버네티스 네트워크와 보안\n",
            "https://twodragon.tistory.com/613 클라우드 시큐리티 과정 4기 - 7회차 컨테이너와 쿠버네티스 정리\n",
            "https://twodragon.tistory.com/612 클라우드 시큐리티 과정 4기 - 6회차 AWS Control Tower 및 통합 로그와 대응\n",
            "https://twodragon.tistory.com/611 클라우드 시큐리티 과정 4기 - 5회차 클라우드 ISMS 취약점 점검 및 조치\n",
            "https://twodragon.tistory.com/610 클라우드 시큐리티 과정 4기 - 4회차 AWS 보안 모니터링 및 취약점 점검\n",
            "https://twodragon.tistory.com/609 클라우드 시큐리티 과정 4기 - 3회차 AWS 아키텍처 및 보안 심화\n",
            "https://twodragon.tistory.com/608 클라우드 시큐리티 과정 4기 - 2회차 AWS 기초 및 심화\n",
            "https://twodragon.tistory.com/607 클라우드 시큐리티 과정 4기 - 1회차 클라우드 기초와 IT 트렌드\n",
            "https://twodragon.tistory.com/606 클라우드 시큐리티 과정 4기 온라인 강의 (2023.09.02 ~ 2023.11.18)\n",
            "https://twodragon.tistory.com/605 [신혼여행] 모두가 꿈꾸는 몰디브 섬 로비길리 리조트 여행기 (OBLU SELECT Lobigili in Maldives)\n",
            "https://twodragon.tistory.com/604 [결혼준비] 유에스베드 하남점 에페다 사요 구매후기 (US-Bed Epeda mattress)\n",
            "https://twodragon.tistory.com/603 삼성전자 DS 서류 자소서 및 면접 준비 자료 (SAMSUNG DS report&amp;amp;interview)\n",
            "https://twodragon.tistory.com/602 카카오뱅크 보안 담당자 서류 및 면접 준비 자료 (kakaobank report&amp;amp;interview)\n",
            "https://twodragon.tistory.com/601 카카오페이증권 보안 담당자 서류 및 준비 자료 (kakaopay Investment report&amp;amp;interview)\n",
            "https://twodragon.tistory.com/600 클라우드 시큐리티 과정 3기 - 9회차 최종 정리 및 방향성\n",
            "https://twodragon.tistory.com/599 클라우드 시큐리티 과정 3기 - 8회차 DevOps 및 CI/CD 개요\n",
            "https://twodragon.tistory.com/598 클라우드 시큐리티 과정 3기 - 7회차 Docker 및 K8S 활용\n",
            "https://twodragon.tistory.com/597 클라우드 시큐리티 과정 3기 - 6회차 ELK 로그 수집 및 ISMS 대응\n"
          ]
        }
      ]
    },
    {
      "cell_type": "code",
      "source": [
        "import feedparser, datetime\n",
        "\n",
        "tistory_blog_uri=\"https://twodragon.tistory.com\"\n",
        "feed = feedparser.parse(tistory_blog_uri+\"/rss\")\n",
        "\n",
        "markdown_text = \"\"\"\n",
        "\n",
        "###  🐱 github stats\n",
        "\n",
        "<div id=\"main\" align=\"center\">\n",
        "    <img src=\"https://github-readme-stats.vercel.app/api?username=peterica&count_private=true&show_icons=true&theme=radical\"\n",
        "        style=\"height: auto; margin-left: 20px; margin-right: 20px; padding: 10px;\"/>\n",
        "    <img src=\"https://github-readme-stats.vercel.app/api/top-langs/?username=peterica&layout=compact\"\n",
        "        style=\"height: auto; margin-left: 20px; margin-right: 20px; padding: 10px;\"/>\n",
        "</div>\n",
        "\n",
        "###  💁‍♀️ About Me\n",
        "<p align=\"center\">\n",
        "    <a href=\"https://twodragon.tistory.com/\"><img src=\"https://img.shields.io/badge/Blog-FF5722?style=flat-square&logo=Blogger&logoColor=white\"/></a>\n",
        "    <a href=\"mailto:twodragon114@gmail.com\"><img src=\"https://img.shields.io/badge/Gmail-d14836?style=flat-square&logo=Gmail&logoColor=white&link=ilovefran.ofm@gmail.com\"/></a>\n",
        "</p>\n",
        "\n",
        "<br>\n",
        "\n",
        "## Recent blog posts\n",
        "\"\"\" # list of blog posts will be appended here\n",
        "\n",
        "for i in feed['entries']:\n",
        "    dt = datetime.datetime.strptime(i['published'], \"%a, %d %b %Y %H:%M:%S %z\").strftime(\"%b %d, %Y\")\n",
        "    markdown_text += f\"<a href =\\\"{i['link']}\\\"> {i['title']} </a> <br>\"\n",
        "\n",
        "# Save to a Markdown file\n",
        "f = open(\"README.md\",mode=\"w\", encoding=\"utf-8\")\n",
        "f.write(markdown_text)\n",
        "f.close()\n"
      ],
      "metadata": {
        "id": "SBuAJY8_ecAD"
      },
      "execution_count": 23,
      "outputs": []
    }
  ]
}